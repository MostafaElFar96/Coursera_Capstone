{
    "nbformat_minor": 1, 
    "cells": [
        {
            "source": "# Choosing a place to open up a new mall in Cairo\n## IBM Data Science Capstone Project\n### Done by: Mostafa El Far\n### Email: mostafaelfar96@gmail.com", 
            "cell_type": "markdown", 
            "metadata": {
                "collapsed": true
            }
        }, 
        {
            "source": "### Description of the project", 
            "cell_type": "markdown", 
            "metadata": {}
        }, 
        {
            "source": "Located on the banks of the Nile River, Cairo is Africa's largest city, as well as the largest city in the Arab world. In the course of its thousand-year history it has been the capital of the great Egyptian dynasties of the Middle Ages, a British colonial enclave, and a modern industrialized city. Today it is a teeming, vibrant national capital with one of the world's highest population densities per square kilometer. Even as the city struggles with the social and environmental effects of overcrowding, it dominates Egypt as well as the region politically, economically, and culturally and remains a prime tourist destination.", 
            "cell_type": "markdown", 
            "metadata": {}
        }, 
        {
            "source": "Cairo has set a shopping benchmark for the region, with over 24 huge malls, including ones of the biggest in the world and over 100 smaller shopping centres as well as dozens of street markets through out the city. It also have many street markets which are locally called 'Souq' and tourists as well as locals can find anything they desire in those shopping spots. One can find everything ranging from handmade clothes, oinments, spices to designer clothes, expensive jewllery and watches.", 
            "cell_type": "markdown", 
            "metadata": {}
        }, 
        {
            "source": "Cairo's market is ever growing. Egypt has remained the number one attractor of foriegn investments in Africa with a direct foriegn investment (DFI) of $7.9 Billion in 2018 alone, this number is just rising in 2019. This also affects shopping in Egypt; with the market expanding, opportunities of new malls are opening up to accomodate the rise in demand. Many investors are already planning on building new malls in Egypt, for instance, Majid Al-Futaim is planning to open up 40 new properties in Egypt by the end of 2022.", 
            "cell_type": "markdown", 
            "metadata": {}
        }, 
        {
            "source": "Looking on Cairo, with a population of over 20 million, endless possibilites of opening up new shopping centres are apparent.", 
            "cell_type": "markdown", 
            "metadata": {}
        }, 
        {
            "source": "### Question to be answered", 
            "cell_type": "markdown", 
            "metadata": {}
        }, 
        {
            "source": "This project aims to tell investors who are interested in opening up a mall in Cairo, which are the best neighbourhoods to do so. Several factors can be included in finding out the optimum answer:\n<ul>\n  <li>Population density of the neghbourhood should be high enough to have enough traffic on the mall</li>\n  <li>Since Cairo is a relatively poor city, the mall should be opened in a relatively rich neighbourhood</li>\n  <li>The mall should be opened close to other shopping malls since competition attracts customers, however it should not be too close in order to be able to thrive against competition</li>\n</ul>", 
            "cell_type": "markdown", 
            "metadata": {}
        }, 
        {
            "source": "### Data collection", 
            "cell_type": "markdown", 
            "metadata": {}
        }, 
        {
            "source": "A list of all neighbourhoods of Cairo and some of its demographics can be found in this website: https://www.citypopulation.de/php/egypt-greatercairo.php\nLocation API from foursquare will be used to collect data on the attractions of each neighbourhood, this data will be used to analyse the income of each neighbourhood and which ones are richer than the others.\nAlso location data API will be used to find information about all malls and shopping centres in Cairo.", 
            "cell_type": "markdown", 
            "metadata": {}
        }
    ], 
    "metadata": {
        "kernelspec": {
            "display_name": "Python 3.6", 
            "name": "python3", 
            "language": "python"
        }, 
        "language_info": {
            "mimetype": "text/x-python", 
            "nbconvert_exporter": "python", 
            "version": "3.6.8", 
            "name": "python", 
            "file_extension": ".py", 
            "pygments_lexer": "ipython3", 
            "codemirror_mode": {
                "version": 3, 
                "name": "ipython"
            }
        }
    }, 
    "nbformat": 4
}